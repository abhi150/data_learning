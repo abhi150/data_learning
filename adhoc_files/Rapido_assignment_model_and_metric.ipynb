{
 "cells": [
  {
   "cell_type": "code",
   "execution_count": 324,
   "metadata": {},
   "outputs": [],
   "source": []
  },
  {
   "cell_type": "code",
   "execution_count": 343,
   "metadata": {},
   "outputs": [],
   "source": [
    "bike_trips_data = pd.read_excel('bike_trip_details.xlsx')"
   ]
  },
  {
   "cell_type": "code",
   "execution_count": 326,
   "metadata": {},
   "outputs": [],
   "source": [
    "def get_hex_id(lat,long,res=8):\n",
    "    return h3.geo_to_h3(lat,long, res)\n"
   ]
  },
  {
   "cell_type": "code",
   "execution_count": 327,
   "metadata": {},
   "outputs": [],
   "source": [
    "def add_extra_parameters(bike_trips_data):\n",
    "    bike_trips_data['pick_hex_id'] = bike_trips_data.apply(lambda x: get_hex_id(x.pick_lat, x.pick_lng), axis=1)\n",
    "    bike_trips_data['drop_hex_id'] = bike_trips_data.apply(lambda x: get_hex_id(x.drop_lat, x.drop_lng), axis=1)\n",
    "    bike_trips_data['date_time']=bike_trips_data['timestamp'].apply(lambda x : datetime.fromtimestamp(x/1000))\n",
    "    bike_trips_data['speed'] = (bike_trips_data['travel_distance']/bike_trips_data['travel_time'])*60\n",
    "    return bike_trips_data"
   ]
  },
  {
   "cell_type": "code",
   "execution_count": 328,
   "metadata": {},
   "outputs": [],
   "source": [
    "bike_trips_data = add_extra_parameters(bike_trips_data)"
   ]
  },
  {
   "cell_type": "code",
   "execution_count": 272,
   "metadata": {},
   "outputs": [],
   "source": [
    "def top_five_hex_cluster(bike_trips_data):\n",
    "    pairs_hex = bike_trips_data.groupby(['pick_hex_id','drop_hex_id'])['trip_id'].nunique().reset_index().sort_values(by='trip_id',ascending=False)\n",
    "    pairs_hex.rename(columns={\"trip_id\":\"Total trips\"},inplace=True)\n",
    "    pairs_hex['Hex pair(source_hex_id,destination_hex_id)'] = pairs_hex['pick_hex_id'].astype(str) + ' to ' \\\n",
    "                                                                  + pairs_hex['drop_hex_id'].astype(str) \n",
    "    top_pairs_hex = pairs_hex.head(5).reset_index(drop=True)\n",
    "    top_pairs_hex['Rank'] = top_pairs_hex.index + 1\n",
    "    return top_pairs_hex[['Rank','Hex pair(source_hex_id,destination_hex_id)','Total trips']]"
   ]
  },
  {
   "cell_type": "code",
   "execution_count": 336,
   "metadata": {},
   "outputs": [],
   "source": [
    "def top_five_hex_cluster_with_no_trips_in_same_clusters(bike_trips_data):\n",
    "    pairs_hex = bike_trips_data.groupby(['pick_hex_id','drop_hex_id'])['trip_id'].nunique().reset_index().sort_values(by='trip_id',ascending=False)\n",
    "    pairs_hex.rename(columns={\"trip_id\":\"Total trips\"},inplace=True)\n",
    "    pairs_hex = pairs_hex[pairs_hex['pick_hex_id'] != pairs_hex['drop_hex_id']].reset_index(drop=True)\n",
    "    pairs_hex['Hex pair(source_hex_id,destination_hex_id)'] = pairs_hex['pick_hex_id'].astype(str) + ' to ' \\\n",
    "                                                                  + pairs_hex['drop_hex_id'].astype(str) \n",
    "    top_pairs_hex = pairs_hex.head(5).reset_index(drop=True)\n",
    "    top_pairs_hex['Rank'] = top_pairs_hex.index + 1\n",
    "    return top_pairs_hex[['Rank','Hex pair(source_hex_id,destination_hex_id)','Total trips']]"
   ]
  },
  {
   "cell_type": "code",
   "execution_count": 337,
   "metadata": {},
   "outputs": [
    {
     "data": {
      "text/html": [
       "<div>\n",
       "<style scoped>\n",
       "    .dataframe tbody tr th:only-of-type {\n",
       "        vertical-align: middle;\n",
       "    }\n",
       "\n",
       "    .dataframe tbody tr th {\n",
       "        vertical-align: top;\n",
       "    }\n",
       "\n",
       "    .dataframe thead th {\n",
       "        text-align: right;\n",
       "    }\n",
       "</style>\n",
       "<table border=\"1\" class=\"dataframe\">\n",
       "  <thead>\n",
       "    <tr style=\"text-align: right;\">\n",
       "      <th></th>\n",
       "      <th>Rank</th>\n",
       "      <th>Hex pair(source_hex_id,destination_hex_id)</th>\n",
       "      <th>Total trips</th>\n",
       "    </tr>\n",
       "  </thead>\n",
       "  <tbody>\n",
       "    <tr>\n",
       "      <th>0</th>\n",
       "      <td>1</td>\n",
       "      <td>88586da335fffff to 88586da149fffff</td>\n",
       "      <td>762</td>\n",
       "    </tr>\n",
       "    <tr>\n",
       "      <th>1</th>\n",
       "      <td>2</td>\n",
       "      <td>88586da149fffff to 88586da335fffff</td>\n",
       "      <td>731</td>\n",
       "    </tr>\n",
       "    <tr>\n",
       "      <th>2</th>\n",
       "      <td>3</td>\n",
       "      <td>88586da331fffff to 88586da335fffff</td>\n",
       "      <td>697</td>\n",
       "    </tr>\n",
       "    <tr>\n",
       "      <th>3</th>\n",
       "      <td>4</td>\n",
       "      <td>88586da335fffff to 88586da331fffff</td>\n",
       "      <td>681</td>\n",
       "    </tr>\n",
       "    <tr>\n",
       "      <th>4</th>\n",
       "      <td>5</td>\n",
       "      <td>88586da149fffff to 88586da14dfffff</td>\n",
       "      <td>485</td>\n",
       "    </tr>\n",
       "  </tbody>\n",
       "</table>\n",
       "</div>"
      ],
      "text/plain": [
       "   Rank Hex pair(source_hex_id,destination_hex_id)  Total trips\n",
       "0     1         88586da335fffff to 88586da149fffff          762\n",
       "1     2         88586da149fffff to 88586da335fffff          731\n",
       "2     3         88586da331fffff to 88586da335fffff          697\n",
       "3     4         88586da335fffff to 88586da331fffff          681\n",
       "4     5         88586da149fffff to 88586da14dfffff          485"
      ]
     },
     "execution_count": 337,
     "metadata": {},
     "output_type": "execute_result"
    }
   ],
   "source": [
    "top_five_hex_cluster_with_no_trips_in_same_clusters(bike_trips_data)"
   ]
  },
  {
   "cell_type": "code",
   "execution_count": 273,
   "metadata": {},
   "outputs": [],
   "source": [
    "def get_mahalanobis_distance(x=None, data=None, cov=None):\n",
    "    \"\"\"Compute the Mahalanobis Distance between each row of x and the data  \n",
    "    x    : vector or matrix of data with, say, p columns.\n",
    "    data : ndarray of the distribution from which Mahalanobis distance of each observation of x is to be computed.\n",
    "    cov  : covariance matrix (p x p) of the distribution. If None, will be computed from data.\n",
    "    \"\"\"\n",
    "    x_minus_mu = x - np.mean(data)\n",
    "    if not cov:\n",
    "        cov = np.cov(data.values.T)\n",
    "    inv_covmat = sp.linalg.inv(cov)\n",
    "    left_term = np.dot(x_minus_mu, inv_covmat)\n",
    "    mahal = np.dot(left_term, x_minus_mu.T)\n",
    "    return mahal.diagonal()\n"
   ]
  },
  {
   "cell_type": "code",
   "execution_count": 16,
   "metadata": {},
   "outputs": [
    {
     "data": {
      "text/html": [
       "<div>\n",
       "<style scoped>\n",
       "    .dataframe tbody tr th:only-of-type {\n",
       "        vertical-align: middle;\n",
       "    }\n",
       "\n",
       "    .dataframe tbody tr th {\n",
       "        vertical-align: top;\n",
       "    }\n",
       "\n",
       "    .dataframe thead th {\n",
       "        text-align: right;\n",
       "    }\n",
       "</style>\n",
       "<table border=\"1\" class=\"dataframe\">\n",
       "  <thead>\n",
       "    <tr style=\"text-align: right;\">\n",
       "      <th></th>\n",
       "      <th>Rank</th>\n",
       "      <th>Hex pair(source_hex_id,destination_hex_id)</th>\n",
       "      <th>Total trips</th>\n",
       "    </tr>\n",
       "  </thead>\n",
       "  <tbody>\n",
       "    <tr>\n",
       "      <th>0</th>\n",
       "      <td>1</td>\n",
       "      <td>88586da335fffff to 88586da335fffff</td>\n",
       "      <td>1064</td>\n",
       "    </tr>\n",
       "    <tr>\n",
       "      <th>1</th>\n",
       "      <td>2</td>\n",
       "      <td>88586da335fffff to 88586da149fffff</td>\n",
       "      <td>762</td>\n",
       "    </tr>\n",
       "    <tr>\n",
       "      <th>2</th>\n",
       "      <td>3</td>\n",
       "      <td>88586da149fffff to 88586da335fffff</td>\n",
       "      <td>731</td>\n",
       "    </tr>\n",
       "    <tr>\n",
       "      <th>3</th>\n",
       "      <td>4</td>\n",
       "      <td>88586da331fffff to 88586da335fffff</td>\n",
       "      <td>697</td>\n",
       "    </tr>\n",
       "    <tr>\n",
       "      <th>4</th>\n",
       "      <td>5</td>\n",
       "      <td>88586da149fffff to 88586da149fffff</td>\n",
       "      <td>692</td>\n",
       "    </tr>\n",
       "  </tbody>\n",
       "</table>\n",
       "</div>"
      ],
      "text/plain": [
       "   Rank Hex pair(source_hex_id,destination_hex_id)  Total trips\n",
       "0     1         88586da335fffff to 88586da335fffff         1064\n",
       "1     2         88586da335fffff to 88586da149fffff          762\n",
       "2     3         88586da149fffff to 88586da335fffff          731\n",
       "3     4         88586da331fffff to 88586da335fffff          697\n",
       "4     5         88586da149fffff to 88586da149fffff          692"
      ]
     },
     "execution_count": 16,
     "metadata": {},
     "output_type": "execute_result"
    }
   ],
   "source": [
    "top_five_hex_cluster(bike_trips_data)"
   ]
  },
  {
   "cell_type": "code",
   "execution_count": 274,
   "metadata": {},
   "outputs": [],
   "source": [
    "def avg_duration_between_first_and_second_trip(bike_trips_data):\n",
    "    bike_trips_of_cus_more_than_one_trxn = bike_trips_data.copy()\n",
    "    bike_trips_of_cus_more_than_one_trxn['lagged_date']  = bike_trips_data.sort_values(by=['date_time'], ascending=True).groupby(['customer_id'])['date_time'].shift(1)\n",
    "    # gives you the data of the second ride of each cutomer which has previous ride time i.e first ride\n",
    "    bike_trips_with_first_and_second_trxn_time = bike_trips_of_cus_more_than_one_trxn.sort_values(by= ['customer_id','date_time']).groupby('customer_id').nth(1).reset_index()\n",
    "    bike_trips_with_first_and_second_trxn_time['time_diff'] = bike_trips_with_first_and_second_trxn_time['date_time'] - bike_trips_with_first_and_second_trxn_time['lagged_date']\n",
    "    return bike_trips_with_first_and_second_trxn_time.time_diff.mean()\n"
   ]
  },
  {
   "cell_type": "code",
   "execution_count": 275,
   "metadata": {},
   "outputs": [
    {
     "data": {
      "text/plain": [
       "Timedelta('1 days 00:47:09.691580')"
      ]
     },
     "execution_count": 275,
     "metadata": {},
     "output_type": "execute_result"
    }
   ],
   "source": [
    "avg_duration_between_first_and_second_trip(bike_trips_data)"
   ]
  },
  {
   "cell_type": "code",
   "execution_count": 276,
   "metadata": {},
   "outputs": [],
   "source": [
    "def remove_anomlies(df_in, col_name):\n",
    "    \"\"\"\n",
    "    given the data frame removes the outlier as per quantile range \n",
    "    returns : the data frame with anamolies\n",
    "    \"\"\"\n",
    "    q1 = df_in[col_name].quantile(0.25)\n",
    "    q3 = df_in[col_name].quantile(0.75)\n",
    "    iqr = q3-q1 #Interquartile range\n",
    "    fence_low  = q1-1.5*iqr\n",
    "    fence_high = q3+1.5*iqr\n",
    "    \n",
    "    df_out = df_in.loc[(df_in[col_name] >= fence_low) & (df_in[col_name] <= fence_high)]\n",
    "    return df_out.reset_index(drop=True)"
   ]
  },
  {
   "cell_type": "code",
   "execution_count": 277,
   "metadata": {},
   "outputs": [],
   "source": [
    "def remove_outlier_and_missing_data(bike_trips_data):\n",
    "    \"\"\"\n",
    "    Will remove all the outliers as seen in the EDA\n",
    "    \"\"\"\n",
    "    # missing values\n",
    "    bike_trips_data = bike_trips_data[(bike_trips_data.travel_distance >0) | (~bike_trips_data.travel_distance.isnull())]\n",
    "    bike_trips_data['mahalanobis_distance'] = get_mahalanobis_distance(x=bike_trips_data[['travel_distance', 'trip_fare']], \\\n",
    "                                        data=bike_trips_data[['travel_distance', 'trip_fare']])\n",
    "    bike_trips_data = bike_trips_data[bike_trips_data['mahalanobis_distance']  <= 100].reset_index(drop=True)\n",
    "    bike_trips_data = remove_anomlies(bike_trips_data, 'speed')\n",
    "    return bike_trips_data\n",
    "    "
   ]
  },
  {
   "cell_type": "code",
   "execution_count": 281,
   "metadata": {},
   "outputs": [],
   "source": [
    "bike_trips_data = remove_outlier_and_missing_data(bike_trips_data)"
   ]
  },
  {
   "cell_type": "code",
   "execution_count": 283,
   "metadata": {},
   "outputs": [
    {
     "name": "stdout",
     "output_type": "stream",
     "text": [
      "(0.8556113050483931, 0.0)\n"
     ]
    }
   ],
   "source": [
    "\n",
    "print(pearsonr(bike_trips_data['travel_distance'], bike_trips_data['travel_time']))\n"
   ]
  },
  {
   "cell_type": "code",
   "execution_count": 346,
   "metadata": {},
   "outputs": [],
   "source": [
    "bike_trips_data['interaction_term'] = bike_trips_data['travel_distance'] * bike_trips_data['travel_time']"
   ]
  },
  {
   "cell_type": "code",
   "execution_count": 347,
   "metadata": {},
   "outputs": [],
   "source": [
    "def model_to_predict_trip_fare(bike_trips_data):\n",
    "    df_features = bike_trips_data[['travel_distance','travel_time','interaction_term']]\n",
    "    df_target = bike_trips_data[['trip_fare']]\n",
    "    # Linear Regression Model\n",
    "    lm = linear_model.LinearRegression()\n",
    "    # split of data into 75% train data and 25% test data\n",
    "    X_train, X_test, y_train, y_test = train_test_split(df_features, df_target, test_size=0.25, random_state=42)\n",
    "    model = lm.fit(X_train,y_train)\n",
    "    y_pred = model.predict(X_test)\n",
    "    rmse = sqrt(metrics.mean_squared_error(y_pred,y_test))\n",
    "    print('-------------------------------------')\n",
    "    print(\"Root mean square error(RMSE): {}\".format(rmse))\n",
    "    print(\"coefficient of determination R^2 of the prediction: {}\".format(model.score(X_train,y_train)))\n",
    "    print(\"Intercept: {}\".format(model.intercept_))\n",
    "    print(\"coefficients for travel_distance,travel_time,interaction_term  are: {}\".format(model.coef_))\n",
    "              \n",
    "    return model"
   ]
  },
  {
   "cell_type": "code",
   "execution_count": 348,
   "metadata": {},
   "outputs": [
    {
     "name": "stdout",
     "output_type": "stream",
     "text": [
      "-------------------------------------\n",
      "Root mean square error(RMSE): 5.4213712369187315\n",
      "coefficient of determination R^2 of the prediction: 0.7684709870440589\n",
      "Intercept: [16.94899108]\n",
      "coefficients for travel_distance,travel_time,interaction_term  are: [[ 7.09280208 -0.38554088  0.06311175]]\n"
     ]
    },
    {
     "data": {
      "text/plain": [
       "LinearRegression(copy_X=True, fit_intercept=True, n_jobs=None, normalize=False)"
      ]
     },
     "execution_count": 348,
     "metadata": {},
     "output_type": "execute_result"
    }
   ],
   "source": [
    "model_to_predict_trip_fare(bike_trips_data)"
   ]
  },
  {
   "cell_type": "code",
   "execution_count": 317,
   "metadata": {},
   "outputs": [
    {
     "name": "stdout",
     "output_type": "stream",
     "text": [
      "4.651946528080086\n",
      "[19.95100727]\n"
     ]
    }
   ],
   "source": [
    "\n",
    "\n",
    "\n",
    "\n",
    "print(\"The Root Mean Squared Error (RMSE) : {'rmse'}\".format(rmse = sqrt(metrics.mean_squared_error(y_pred,y_test)))\n",
    "print()\n",
    "\n",
    "print(model.intercept_)"
   ]
  },
  {
   "cell_type": "code",
   "execution_count": 313,
   "metadata": {},
   "outputs": [
    {
     "data": {
      "text/plain": [
       "array([[38.31832616]])"
      ]
     },
     "execution_count": 313,
     "metadata": {},
     "output_type": "execute_result"
    }
   ],
   "source": [
    "model.predict([[3.5,15,52.5]])"
   ]
  },
  {
   "cell_type": "code",
   "execution_count": 249,
   "metadata": {},
   "outputs": [],
   "source": []
  },
  {
   "cell_type": "code",
   "execution_count": 250,
   "metadata": {},
   "outputs": [],
   "source": []
  },
  {
   "cell_type": "code",
   "execution_count": 252,
   "metadata": {},
   "outputs": [
    {
     "data": {
      "text/plain": [
       "5.379411955871469"
      ]
     },
     "execution_count": 252,
     "metadata": {},
     "output_type": "execute_result"
    }
   ],
   "source": []
  },
  {
   "cell_type": "code",
   "execution_count": 255,
   "metadata": {},
   "outputs": [
    {
     "data": {
      "text/plain": [
       "array([[38.36611519]])"
      ]
     },
     "execution_count": 255,
     "metadata": {},
     "output_type": "execute_result"
    }
   ],
   "source": [
    "\n",
    "# The pearsonr() SciPy function can be used to calculate the \n",
    "# Pearson’s correlation coefficient between two data samples with the same length.\n",
    "\n",
    "model.predict([[3.5,15,52.5]])"
   ]
  },
  {
   "cell_type": "code",
   "execution_count": 256,
   "metadata": {},
   "outputs": [
    {
     "data": {
      "text/plain": [
       "array([[ 6.75169355, -0.63388728,  0.08813868]])"
      ]
     },
     "execution_count": 256,
     "metadata": {},
     "output_type": "execute_result"
    }
   ],
   "source": []
  },
  {
   "cell_type": "code",
   "execution_count": 257,
   "metadata": {},
   "outputs": [
    {
     "data": {
      "text/plain": [
       "array([19.61621605])"
      ]
     },
     "execution_count": 257,
     "metadata": {},
     "output_type": "execute_result"
    }
   ],
   "source": []
  },
  {
   "cell_type": "code",
   "execution_count": null,
   "metadata": {},
   "outputs": [],
   "source": []
  }
 ],
 "metadata": {
  "kernelspec": {
   "display_name": "Python 3",
   "language": "python",
   "name": "python3"
  },
  "language_info": {
   "codemirror_mode": {
    "name": "ipython",
    "version": 3
   },
   "file_extension": ".py",
   "mimetype": "text/x-python",
   "name": "python",
   "nbconvert_exporter": "python",
   "pygments_lexer": "ipython3",
   "version": "3.6.5"
  }
 },
 "nbformat": 4,
 "nbformat_minor": 2
}
