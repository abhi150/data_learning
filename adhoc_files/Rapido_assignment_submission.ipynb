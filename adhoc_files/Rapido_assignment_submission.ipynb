{
 "cells": [
  {
   "cell_type": "code",
   "execution_count": 1,
   "metadata": {},
   "outputs": [],
   "source": [
    "# Importing Libraries\n",
    "import warnings\n",
    "warnings.filterwarnings('ignore')\n",
    "import pandas as pd\n",
    "from h3 import h3\n",
    "from datetime import datetime\n",
    "import seaborn as sns\n",
    "import matplotlib.pyplot as plt\n",
    "from scipy.stats import pearsonr\n",
    "from statsmodels.graphics.gofplots import qqplot\n",
    "import scipy as sp\n",
    "import numpy as np\n",
    "from math import sqrt\n",
    "from sklearn import linear_model,metrics,preprocessing\n",
    "from sklearn.model_selection import train_test_split"
   ]
  },
  {
   "cell_type": "markdown",
   "metadata": {},
   "source": [
    "# Part 1: Exploratory data analysis"
   ]
  },
  {
   "cell_type": "markdown",
   "metadata": {},
   "source": [
    "# Process Data to facilitate EDA\n",
    "- Read Data\n",
    "- Define helper functions\n",
    "- Add derived features "
   ]
  },
  {
   "cell_type": "code",
   "execution_count": 2,
   "metadata": {},
   "outputs": [],
   "source": [
    "# Read Data\n",
    "bike_trips_data = pd.read_excel('bike_trip_details.xlsx')\n",
    "\n",
    "\n",
    "# Define helper functions\n",
    "def get_hex_id(lat,long,res=8):\n",
    "    return h3.geo_to_h3(lat,long, res)\n",
    "\n",
    "\n",
    "def get_part_of_day(hour):\n",
    "    return (\n",
    "        \"morning\" if 5 <= hour <= 11\n",
    "        else\n",
    "        \"afternoon\" if 12 <= hour <= 17\n",
    "        else\n",
    "        \"evening\" if 18 <= hour <= 22\n",
    "        else\n",
    "        \"night\")\n",
    "\n",
    "\n",
    "def get_weekday(day):\n",
    "    return (\"weekday\" if day < 5 else \"weekend\" )\n",
    "\n",
    "# Add additional features\n",
    "bike_trips_data['pick_hex_id'] = bike_trips_data.apply(lambda x: get_hex_id(x.pick_lat, x.pick_lng), axis=1)\n",
    "bike_trips_data['drop_hex_id'] = bike_trips_data.apply(lambda x: get_hex_id(x.drop_lat, x.drop_lng), axis=1)\n",
    "bike_trips_data['date_time']=bike_trips_data['timestamp'].apply(lambda x : datetime.fromtimestamp(x/1000))\n",
    "bike_trips_data['part_of_day']=bike_trips_data['date_time'].apply(lambda x : get_part_of_day(x.hour))\n",
    "bike_trips_data['weekday']=bike_trips_data['date_time'].apply(lambda x : get_weekday(x.weekday()))"
   ]
  },
  {
   "cell_type": "markdown",
   "metadata": {},
   "source": [
    "# Identify Missing Values\n",
    "- There are no null/NA values in the data\n",
    "- For travel distance there are records with incorrect distances (0 and -1) which are assumed to be missing\n",
    "- Imputation scheme for these values is to use `average fare/unit distance` or `average distance/unit time` and use available fare or time to impute values "
   ]
  },
  {
   "cell_type": "code",
   "execution_count": 3,
   "metadata": {},
   "outputs": [
    {
     "data": {
      "text/plain": [
       "False"
      ]
     },
     "execution_count": 3,
     "metadata": {},
     "output_type": "execute_result"
    }
   ],
   "source": [
    "#Check if any value is null\n",
    "bike_trips_data.isnull().values.any()"
   ]
  },
  {
   "cell_type": "code",
   "execution_count": 4,
   "metadata": {},
   "outputs": [
    {
     "data": {
      "text/plain": [
       "234"
      ]
     },
     "execution_count": 4,
     "metadata": {},
     "output_type": "execute_result"
    }
   ],
   "source": [
    "# Get records with incorrectly captured travel_distance which is treated as missing\n",
    "df_ouliers = bike_trips_data[(bike_trips_data.travel_distance <=0)]\n",
    "\n",
    "# This results in 234 records\n",
    "df_ouliers.shape[0]"
   ]
  },
  {
   "cell_type": "markdown",
   "metadata": {},
   "source": [
    "# Exploratory Data Analysis and Profiling\n",
    "- Quick look at key statistics to spot any gross inconsistencies\n",
    "- Look at distribution of features\n",
    "- Find how trips are divided across day/week parts\n",
    "- See how features correlate with each other"
   ]
  },
  {
   "cell_type": "code",
   "execution_count": 5,
   "metadata": {},
   "outputs": [
    {
     "data": {
      "text/html": [
       "<div>\n",
       "<style scoped>\n",
       "    .dataframe tbody tr th:only-of-type {\n",
       "        vertical-align: middle;\n",
       "    }\n",
       "\n",
       "    .dataframe tbody tr th {\n",
       "        vertical-align: top;\n",
       "    }\n",
       "\n",
       "    .dataframe thead th {\n",
       "        text-align: right;\n",
       "    }\n",
       "</style>\n",
       "<table border=\"1\" class=\"dataframe\">\n",
       "  <thead>\n",
       "    <tr style=\"text-align: right;\">\n",
       "      <th></th>\n",
       "      <th>timestamp</th>\n",
       "      <th>pick_lat</th>\n",
       "      <th>pick_lng</th>\n",
       "      <th>drop_lat</th>\n",
       "      <th>drop_lng</th>\n",
       "      <th>travel_distance</th>\n",
       "      <th>travel_time</th>\n",
       "      <th>trip_fare</th>\n",
       "    </tr>\n",
       "  </thead>\n",
       "  <tbody>\n",
       "    <tr>\n",
       "      <th>count</th>\n",
       "      <td>4.458700e+04</td>\n",
       "      <td>44587.000000</td>\n",
       "      <td>44587.000000</td>\n",
       "      <td>44587.000000</td>\n",
       "      <td>44587.000000</td>\n",
       "      <td>44587.000000</td>\n",
       "      <td>44587.000000</td>\n",
       "      <td>44587.000000</td>\n",
       "    </tr>\n",
       "    <tr>\n",
       "      <th>mean</th>\n",
       "      <td>1.546632e+12</td>\n",
       "      <td>17.427598</td>\n",
       "      <td>17.427598</td>\n",
       "      <td>17.427520</td>\n",
       "      <td>17.427520</td>\n",
       "      <td>5.094359</td>\n",
       "      <td>15.819835</td>\n",
       "      <td>53.872833</td>\n",
       "    </tr>\n",
       "    <tr>\n",
       "      <th>std</th>\n",
       "      <td>1.518684e+08</td>\n",
       "      <td>0.030151</td>\n",
       "      <td>0.030151</td>\n",
       "      <td>0.037690</td>\n",
       "      <td>0.037690</td>\n",
       "      <td>3.365008</td>\n",
       "      <td>23.462865</td>\n",
       "      <td>33.430462</td>\n",
       "    </tr>\n",
       "    <tr>\n",
       "      <th>min</th>\n",
       "      <td>1.546368e+12</td>\n",
       "      <td>17.330339</td>\n",
       "      <td>17.330339</td>\n",
       "      <td>12.921696</td>\n",
       "      <td>12.921696</td>\n",
       "      <td>-1.000000</td>\n",
       "      <td>0.022750</td>\n",
       "      <td>20.000000</td>\n",
       "    </tr>\n",
       "    <tr>\n",
       "      <th>25%</th>\n",
       "      <td>1.546503e+12</td>\n",
       "      <td>17.404811</td>\n",
       "      <td>17.404811</td>\n",
       "      <td>17.405149</td>\n",
       "      <td>17.405149</td>\n",
       "      <td>2.744500</td>\n",
       "      <td>8.428525</td>\n",
       "      <td>36.000000</td>\n",
       "    </tr>\n",
       "    <tr>\n",
       "      <th>50%</th>\n",
       "      <td>1.546611e+12</td>\n",
       "      <td>17.431681</td>\n",
       "      <td>17.431681</td>\n",
       "      <td>17.430460</td>\n",
       "      <td>17.430460</td>\n",
       "      <td>4.299000</td>\n",
       "      <td>13.126250</td>\n",
       "      <td>46.000000</td>\n",
       "    </tr>\n",
       "    <tr>\n",
       "      <th>75%</th>\n",
       "      <td>1.546772e+12</td>\n",
       "      <td>17.446578</td>\n",
       "      <td>17.446578</td>\n",
       "      <td>17.446780</td>\n",
       "      <td>17.446780</td>\n",
       "      <td>6.679500</td>\n",
       "      <td>20.111167</td>\n",
       "      <td>60.000000</td>\n",
       "    </tr>\n",
       "    <tr>\n",
       "      <th>max</th>\n",
       "      <td>1.546886e+12</td>\n",
       "      <td>17.528885</td>\n",
       "      <td>17.528885</td>\n",
       "      <td>17.736155</td>\n",
       "      <td>17.736155</td>\n",
       "      <td>52.801000</td>\n",
       "      <td>4134.388700</td>\n",
       "      <td>1670.000000</td>\n",
       "    </tr>\n",
       "  </tbody>\n",
       "</table>\n",
       "</div>"
      ],
      "text/plain": [
       "          timestamp      pick_lat      pick_lng      drop_lat      drop_lng  \\\n",
       "count  4.458700e+04  44587.000000  44587.000000  44587.000000  44587.000000   \n",
       "mean   1.546632e+12     17.427598     17.427598     17.427520     17.427520   \n",
       "std    1.518684e+08      0.030151      0.030151      0.037690      0.037690   \n",
       "min    1.546368e+12     17.330339     17.330339     12.921696     12.921696   \n",
       "25%    1.546503e+12     17.404811     17.404811     17.405149     17.405149   \n",
       "50%    1.546611e+12     17.431681     17.431681     17.430460     17.430460   \n",
       "75%    1.546772e+12     17.446578     17.446578     17.446780     17.446780   \n",
       "max    1.546886e+12     17.528885     17.528885     17.736155     17.736155   \n",
       "\n",
       "       travel_distance   travel_time     trip_fare  \n",
       "count     44587.000000  44587.000000  44587.000000  \n",
       "mean          5.094359     15.819835     53.872833  \n",
       "std           3.365008     23.462865     33.430462  \n",
       "min          -1.000000      0.022750     20.000000  \n",
       "25%           2.744500      8.428525     36.000000  \n",
       "50%           4.299000     13.126250     46.000000  \n",
       "75%           6.679500     20.111167     60.000000  \n",
       "max          52.801000   4134.388700   1670.000000  "
      ]
     },
     "execution_count": 5,
     "metadata": {},
     "output_type": "execute_result"
    }
   ],
   "source": [
    "# Use in-built method for high level data profiling\n",
    "# This does not point out any glaring inconsitencies except for negative values in travel_distance\n",
    "bike_trips_data.describe()"
   ]
  },
  {
   "cell_type": "raw",
   "metadata": {},
   "source": [
    "*Checking distributions of key features*\n",
    "Observations :\n",
    "    1. there are unsual travel distances, fare and travel times present (towards the right tail) "
   ]
  },
  {
   "cell_type": "code",
   "execution_count": 6,
   "metadata": {},
   "outputs": [
    {
     "data": {
      "image/png": "[encoded data removed]",
      "text/plain": [
       "<Figure size 432x288 with 1 Axes>"
      ]
     },
     "metadata": {
      "needs_background": "light"
     },
     "output_type": "display_data"
    }
   ],
   "source": [
    "# Distributions are almost normal\n",
    "sns.kdeplot(bike_trips_data['travel_distance'])\n",
    "plt.show()\n",
    "# towards the tail we can see unusual trave"
   ]
  },
  {
   "cell_type": "code",
   "execution_count": 7,
   "metadata": {},
   "outputs": [
    {
     "data": {
      "image/png": "[encoded data removed]",
      "text/plain": [
       "<Figure size 432x288 with 1 Axes>"
      ]
     },
     "metadata": {
      "needs_background": "light"
     },
     "output_type": "display_data"
    }
   ],
   "source": [
    "# trip_fare and travel_time on plotted on logarithmic scale as the there is a huge range difference\n",
    "sns.kdeplot(np.log(bike_trips_data['trip_fare']))\n",
    "plt.show()"
   ]
  },
  {
   "cell_type": "code",
   "execution_count": 8,
   "metadata": {},
   "outputs": [
    {
     "data": {
      "image/png": "[encoded data removed]",
      "text/plain": [
       "<Figure size 432x288 with 1 Axes>"
      ]
     },
     "metadata": {
      "needs_background": "light"
     },
     "output_type": "display_data"
    }
   ],
   "source": [
    "sns.kdeplot(np.log(bike_trips_data['travel_time']))\n",
    "plt.show()"
   ]
  },
  {
   "cell_type": "raw",
   "metadata": {},
   "source": [
    "*Checking how trips are spread across part of day and weeks*\n",
    "Observations :\n",
    "    1. There are trips spread well across all parts of day except night - which is alligned with coventional wisdom\n",
    "    2. Weekend trips are less\n",
    "        - Possibily large part of user base is daily office commuters\n",
    "        - People tend to stay back home or travel with friends and family on weekends which might explain the drop   "
   ]
  },
  {
   "cell_type": "code",
   "execution_count": 9,
   "metadata": {},
   "outputs": [],
   "source": [
    "# Create trip count aggregates by part pf day and part of week\n",
    "df_trips_by_daypart = bike_trips_data.groupby(['part_of_day'])['trip_id'].count().reset_index()\n",
    "df_trips_by_daypart.rename(columns={'trip_id':'trip_count'}, inplace=True)\n",
    "df_trips_by_weekpart = bike_trips_data.groupby(['weekday'])['trip_id'].count().reset_index()\n",
    "df_trips_by_weekpart.rename(columns={'trip_id':'trip_count'}, inplace=True)"
   ]
  },
  {
   "cell_type": "code",
   "execution_count": 10,
   "metadata": {},
   "outputs": [
    {
     "data": {
      "image/png": "[encoded data removed]",
      "text/plain": [
       "<Figure size 432x288 with 1 Axes>"
      ]
     },
     "metadata": {},
     "output_type": "display_data"
    }
   ],
   "source": [
    "sns.set(style=\"whitegrid\")\n",
    "sns.barplot(x=\"part_of_day\", y=\"trip_count\", data=df_trips_by_daypart)\n",
    "plt.show()"
   ]
  },
  {
   "cell_type": "code",
   "execution_count": 11,
   "metadata": {},
   "outputs": [
    {
     "data": {
      "image/png": "[encoded data removed]",
      "text/plain": [
       "<Figure size 432x288 with 1 Axes>"
      ]
     },
     "metadata": {},
     "output_type": "display_data"
    }
   ],
   "source": [
    "sns.set(style=\"whitegrid\")\n",
    "sns.barplot(x=\"weekday\", y=\"trip_count\", data=df_trips_by_weekpart)\n",
    "plt.show()"
   ]
  },
  {
   "cell_type": "raw",
   "metadata": {},
   "source": [
    "*Checking how trips fare/time vary with part of day/week*\n",
    "Observations :\n",
    "    1. There is a general observation that travel time on weekdays in more than weekends\n",
    "    2. Mean distance on weekend-night is more than weekday-night even though the time is less suggesting low traffic"
   ]
  },
  {
   "cell_type": "code",
   "execution_count": 12,
   "metadata": {},
   "outputs": [
    {
     "data": {
      "text/html": [
       "<div>\n",
       "<style scoped>\n",
       "    .dataframe tbody tr th:only-of-type {\n",
       "        vertical-align: middle;\n",
       "    }\n",
       "\n",
       "    .dataframe tbody tr th {\n",
       "        vertical-align: top;\n",
       "    }\n",
       "\n",
       "    .dataframe thead th {\n",
       "        text-align: right;\n",
       "    }\n",
       "</style>\n",
       "<table border=\"1\" class=\"dataframe\">\n",
       "  <thead>\n",
       "    <tr style=\"text-align: right;\">\n",
       "      <th></th>\n",
       "      <th>weekday</th>\n",
       "      <th>part_of_day</th>\n",
       "      <th>travel_time</th>\n",
       "    </tr>\n",
       "  </thead>\n",
       "  <tbody>\n",
       "    <tr>\n",
       "      <th>0</th>\n",
       "      <td>weekday</td>\n",
       "      <td>afternoon</td>\n",
       "      <td>15.756404</td>\n",
       "    </tr>\n",
       "    <tr>\n",
       "      <th>1</th>\n",
       "      <td>weekday</td>\n",
       "      <td>evening</td>\n",
       "      <td>16.567440</td>\n",
       "    </tr>\n",
       "    <tr>\n",
       "      <th>2</th>\n",
       "      <td>weekday</td>\n",
       "      <td>morning</td>\n",
       "      <td>15.951253</td>\n",
       "    </tr>\n",
       "    <tr>\n",
       "      <th>3</th>\n",
       "      <td>weekday</td>\n",
       "      <td>night</td>\n",
       "      <td>13.988077</td>\n",
       "    </tr>\n",
       "    <tr>\n",
       "      <th>4</th>\n",
       "      <td>weekend</td>\n",
       "      <td>afternoon</td>\n",
       "      <td>15.569811</td>\n",
       "    </tr>\n",
       "    <tr>\n",
       "      <th>5</th>\n",
       "      <td>weekend</td>\n",
       "      <td>evening</td>\n",
       "      <td>15.916086</td>\n",
       "    </tr>\n",
       "    <tr>\n",
       "      <th>6</th>\n",
       "      <td>weekend</td>\n",
       "      <td>morning</td>\n",
       "      <td>14.211516</td>\n",
       "    </tr>\n",
       "    <tr>\n",
       "      <th>7</th>\n",
       "      <td>weekend</td>\n",
       "      <td>night</td>\n",
       "      <td>12.975616</td>\n",
       "    </tr>\n",
       "  </tbody>\n",
       "</table>\n",
       "</div>"
      ],
      "text/plain": [
       "   weekday part_of_day  travel_time\n",
       "0  weekday   afternoon    15.756404\n",
       "1  weekday     evening    16.567440\n",
       "2  weekday     morning    15.951253\n",
       "3  weekday       night    13.988077\n",
       "4  weekend   afternoon    15.569811\n",
       "5  weekend     evening    15.916086\n",
       "6  weekend     morning    14.211516\n",
       "7  weekend       night    12.975616"
      ]
     },
     "execution_count": 12,
     "metadata": {},
     "output_type": "execute_result"
    }
   ],
   "source": [
    "# Mean travel time aggregates\n",
    "bike_trips_data.groupby(['weekday','part_of_day'])['travel_time'].mean().reset_index()"
   ]
  },
  {
   "cell_type": "code",
   "execution_count": 13,
   "metadata": {},
   "outputs": [
    {
     "data": {
      "text/html": [
       "<div>\n",
       "<style scoped>\n",
       "    .dataframe tbody tr th:only-of-type {\n",
       "        vertical-align: middle;\n",
       "    }\n",
       "\n",
       "    .dataframe tbody tr th {\n",
       "        vertical-align: top;\n",
       "    }\n",
       "\n",
       "    .dataframe thead th {\n",
       "        text-align: right;\n",
       "    }\n",
       "</style>\n",
       "<table border=\"1\" class=\"dataframe\">\n",
       "  <thead>\n",
       "    <tr style=\"text-align: right;\">\n",
       "      <th></th>\n",
       "      <th>weekday</th>\n",
       "      <th>part_of_day</th>\n",
       "      <th>travel_distance</th>\n",
       "    </tr>\n",
       "  </thead>\n",
       "  <tbody>\n",
       "    <tr>\n",
       "      <th>0</th>\n",
       "      <td>weekday</td>\n",
       "      <td>afternoon</td>\n",
       "      <td>4.954607</td>\n",
       "    </tr>\n",
       "    <tr>\n",
       "      <th>1</th>\n",
       "      <td>weekday</td>\n",
       "      <td>evening</td>\n",
       "      <td>4.995205</td>\n",
       "    </tr>\n",
       "    <tr>\n",
       "      <th>2</th>\n",
       "      <td>weekday</td>\n",
       "      <td>morning</td>\n",
       "      <td>5.110616</td>\n",
       "    </tr>\n",
       "    <tr>\n",
       "      <th>3</th>\n",
       "      <td>weekday</td>\n",
       "      <td>night</td>\n",
       "      <td>5.263930</td>\n",
       "    </tr>\n",
       "    <tr>\n",
       "      <th>4</th>\n",
       "      <td>weekend</td>\n",
       "      <td>afternoon</td>\n",
       "      <td>5.144247</td>\n",
       "    </tr>\n",
       "    <tr>\n",
       "      <th>5</th>\n",
       "      <td>weekend</td>\n",
       "      <td>evening</td>\n",
       "      <td>5.342353</td>\n",
       "    </tr>\n",
       "    <tr>\n",
       "      <th>6</th>\n",
       "      <td>weekend</td>\n",
       "      <td>morning</td>\n",
       "      <td>5.389432</td>\n",
       "    </tr>\n",
       "    <tr>\n",
       "      <th>7</th>\n",
       "      <td>weekend</td>\n",
       "      <td>night</td>\n",
       "      <td>5.438874</td>\n",
       "    </tr>\n",
       "  </tbody>\n",
       "</table>\n",
       "</div>"
      ],
      "text/plain": [
       "   weekday part_of_day  travel_distance\n",
       "0  weekday   afternoon         4.954607\n",
       "1  weekday     evening         4.995205\n",
       "2  weekday     morning         5.110616\n",
       "3  weekday       night         5.263930\n",
       "4  weekend   afternoon         5.144247\n",
       "5  weekend     evening         5.342353\n",
       "6  weekend     morning         5.389432\n",
       "7  weekend       night         5.438874"
      ]
     },
     "execution_count": 13,
     "metadata": {},
     "output_type": "execute_result"
    }
   ],
   "source": [
    "# Mean travel distance aggregates\n",
    "bike_trips_data.groupby(['weekday','part_of_day'])['travel_distance'].mean().reset_index()"
   ]
  },
  {
   "cell_type": "raw",
   "metadata": {},
   "source": [
    "*Checking how key features correlate*\n",
    "Observations :\n",
    "    1. There is very strong correlation between travel distance and trip fare\n",
    "    2. There is unexpected weaker correlation between travel time and distance - perhaps traffic is driving factor"
   ]
  },
  {
   "cell_type": "code",
   "execution_count": 14,
   "metadata": {},
   "outputs": [],
   "source": [
    "#preparing data for scatter pair plot\n",
    "df_scatter_data = bike_trips_data[['travel_distance','travel_time','trip_fare']]\n",
    "df_scatter_data['travel_time'] = np.log(df_scatter_data['travel_time'])\n",
    "df_scatter_data['trip_fare'] = np.log(df_scatter_data['trip_fare'])"
   ]
  },
  {
   "cell_type": "code",
   "execution_count": 15,
   "metadata": {},
   "outputs": [
    {
     "data": {
      "image/png": "[encoded data removed]",
      "text/plain": [
       "<Figure size 540x540 with 12 Axes>"
      ]
     },
     "metadata": {},
     "output_type": "display_data"
    }
   ],
   "source": [
    "sns.set(style=\"ticks\", color_codes=True)\n",
    "sns.pairplot(df_scatter_data)\n",
    "plt.show()"
   ]
  },
  {
   "cell_type": "code",
   "execution_count": 16,
   "metadata": {},
   "outputs": [
    {
     "data": {
      "text/html": [
       "<div>\n",
       "<style scoped>\n",
       "    .dataframe tbody tr th:only-of-type {\n",
       "        vertical-align: middle;\n",
       "    }\n",
       "\n",
       "    .dataframe tbody tr th {\n",
       "        vertical-align: top;\n",
       "    }\n",
       "\n",
       "    .dataframe thead th {\n",
       "        text-align: right;\n",
       "    }\n",
       "</style>\n",
       "<table border=\"1\" class=\"dataframe\">\n",
       "  <thead>\n",
       "    <tr style=\"text-align: right;\">\n",
       "      <th></th>\n",
       "      <th>travel_distance</th>\n",
       "      <th>travel_time</th>\n",
       "      <th>trip_fare</th>\n",
       "    </tr>\n",
       "  </thead>\n",
       "  <tbody>\n",
       "    <tr>\n",
       "      <th>travel_distance</th>\n",
       "      <td>1.000000</td>\n",
       "      <td>0.694492</td>\n",
       "      <td>0.969492</td>\n",
       "    </tr>\n",
       "    <tr>\n",
       "      <th>travel_time</th>\n",
       "      <td>0.694492</td>\n",
       "      <td>1.000000</td>\n",
       "      <td>0.742184</td>\n",
       "    </tr>\n",
       "    <tr>\n",
       "      <th>trip_fare</th>\n",
       "      <td>0.969492</td>\n",
       "      <td>0.742184</td>\n",
       "      <td>1.000000</td>\n",
       "    </tr>\n",
       "  </tbody>\n",
       "</table>\n",
       "</div>"
      ],
      "text/plain": [
       "                 travel_distance  travel_time  trip_fare\n",
       "travel_distance         1.000000     0.694492   0.969492\n",
       "travel_time             0.694492     1.000000   0.742184\n",
       "trip_fare               0.969492     0.742184   1.000000"
      ]
     },
     "execution_count": 16,
     "metadata": {},
     "output_type": "execute_result"
    }
   ],
   "source": [
    "#Correlation Matrix\n",
    "df_scatter_data.corr()"
   ]
  },
  {
   "cell_type": "markdown",
   "metadata": {},
   "source": [
    "# Identifying outliers in the data\n",
    "- The problem is to identify anamolies using multiple variables. Mahalanobis distance is an effective multivariate distance metric that measures the distance between a point and a distribution.It is an extremely useful metric having, excellent applications in multivariate anomaly detection. (https://towardsdatascience.com/how-to-use-machine-learning-for-anomaly-detection-and-condition-monitoring-6742f82900d7)\n",
    "\n",
    "- We use this multivariate anamoly because fare is dependent on distance and time trave and univariate would not be correct approach\n",
    "\n",
    "- we then plot log of calculated Mahalanobis distance and find the the upper range after which points can be labelled as outliers\n",
    "\n",
    "- Additional anamolies are removed by IQR method on speed (derived feature)"
   ]
  },
  {
   "cell_type": "code",
   "execution_count": 17,
   "metadata": {},
   "outputs": [],
   "source": [
    "def calculate_mahalanobis_distance(x=None, data=None, cov=None):\n",
    "    \"\"\"Compute the Mahalanobis Distance between each row of x and the data  \n",
    "    x    : vector or matrix of data with, say, p columns.\n",
    "    data : ndarray of the distribution from which Mahalanobis distance of each observation of x is to be computed.\n",
    "    cov  : covariance matrix (p x p) of the distribution. If None, will be computed from data.\n",
    "    \"\"\"\n",
    "    x_minus_mu = x - np.mean(data)\n",
    "    if not cov:\n",
    "        cov = np.cov(data.values.T)\n",
    "    inv_covmat = sp.linalg.inv(cov)\n",
    "    left_term = np.dot(x_minus_mu, inv_covmat)\n",
    "    mahal = np.dot(left_term, x_minus_mu.T)\n",
    "    return mahal.diagonal()\n",
    "\n",
    "# removing non-positive distances as they are not being imputed\n",
    "bike_trips_data = bike_trips_data[bike_trips_data.travel_distance>0]\n",
    "\n",
    "bike_trips_data['mahalanobis_distance'] = calculate_mahalanobis_distance(x=bike_trips_data[['travel_distance', 'trip_fare']], \\\n",
    "                                        data=bike_trips_data[['travel_distance', 'trip_fare']])"
   ]
  },
  {
   "cell_type": "code",
   "execution_count": 18,
   "metadata": {},
   "outputs": [],
   "source": [
    "#calculate log of mahalanobis_distance to plot distribution\n",
    "bike_trips_data['mahalanobis_distance_log'] = np.log(bike_trips_data['mahalanobis_distance'])"
   ]
  },
  {
   "cell_type": "code",
   "execution_count": 19,
   "metadata": {},
   "outputs": [
    {
     "data": {
      "image/png": "[encoded data removed]",
      "text/plain": [
       "<Figure size 432x288 with 1 Axes>"
      ]
     },
     "metadata": {},
     "output_type": "display_data"
    }
   ],
   "source": [
    "sns.kdeplot(np.log(bike_trips_data['mahalanobis_distance']))\n",
    "plt.show()"
   ]
  },
  {
   "cell_type": "raw",
   "metadata": {},
   "source": [
    "- We can see outliers are beyond 5 and -5\n",
    "- We need to ignore negative values as very small values gives negative log but less distance implies they are less likely outliers\n",
    "- In our case, a threshold of 5 seems fair"
   ]
  },
  {
   "cell_type": "code",
   "execution_count": 20,
   "metadata": {},
   "outputs": [],
   "source": [
    "anamolies = bike_trips_data[bike_trips_data['mahalanobis_distance_log']>5].reset_index(drop=True)"
   ]
  },
  {
   "cell_type": "code",
   "execution_count": 21,
   "metadata": {},
   "outputs": [
    {
     "data": {
      "text/html": [
       "<div>\n",
       "<style scoped>\n",
       "    .dataframe tbody tr th:only-of-type {\n",
       "        vertical-align: middle;\n",
       "    }\n",
       "\n",
       "    .dataframe tbody tr th {\n",
       "        vertical-align: top;\n",
       "    }\n",
       "\n",
       "    .dataframe thead th {\n",
       "        text-align: right;\n",
       "    }\n",
       "</style>\n",
       "<table border=\"1\" class=\"dataframe\">\n",
       "  <thead>\n",
       "    <tr style=\"text-align: right;\">\n",
       "      <th></th>\n",
       "      <th>travel_distance</th>\n",
       "      <th>travel_time</th>\n",
       "      <th>travel_time</th>\n",
       "      <th>mahalanobis_distance_log</th>\n",
       "    </tr>\n",
       "  </thead>\n",
       "  <tbody>\n",
       "    <tr>\n",
       "      <th>0</th>\n",
       "      <td>27.000</td>\n",
       "      <td>70.498000</td>\n",
       "      <td>70.498000</td>\n",
       "      <td>5.546320</td>\n",
       "    </tr>\n",
       "    <tr>\n",
       "      <th>1</th>\n",
       "      <td>52.801</td>\n",
       "      <td>14.164500</td>\n",
       "      <td>14.164500</td>\n",
       "      <td>5.630561</td>\n",
       "    </tr>\n",
       "    <tr>\n",
       "      <th>2</th>\n",
       "      <td>3.000</td>\n",
       "      <td>10.423133</td>\n",
       "      <td>10.423133</td>\n",
       "      <td>5.090359</td>\n",
       "    </tr>\n",
       "    <tr>\n",
       "      <th>3</th>\n",
       "      <td>46.747</td>\n",
       "      <td>98.218850</td>\n",
       "      <td>98.218850</td>\n",
       "      <td>5.339610</td>\n",
       "    </tr>\n",
       "    <tr>\n",
       "      <th>4</th>\n",
       "      <td>4.000</td>\n",
       "      <td>103.663667</td>\n",
       "      <td>103.663667</td>\n",
       "      <td>5.358221</td>\n",
       "    </tr>\n",
       "    <tr>\n",
       "      <th>5</th>\n",
       "      <td>4.000</td>\n",
       "      <td>10.143917</td>\n",
       "      <td>10.143917</td>\n",
       "      <td>8.491110</td>\n",
       "    </tr>\n",
       "    <tr>\n",
       "      <th>6</th>\n",
       "      <td>2.700</td>\n",
       "      <td>10.949667</td>\n",
       "      <td>10.949667</td>\n",
       "      <td>8.516316</td>\n",
       "    </tr>\n",
       "    <tr>\n",
       "      <th>7</th>\n",
       "      <td>1.000</td>\n",
       "      <td>1.596217</td>\n",
       "      <td>1.596217</td>\n",
       "      <td>8.548891</td>\n",
       "    </tr>\n",
       "    <tr>\n",
       "      <th>8</th>\n",
       "      <td>9.400</td>\n",
       "      <td>267.825483</td>\n",
       "      <td>267.825483</td>\n",
       "      <td>9.581129</td>\n",
       "    </tr>\n",
       "  </tbody>\n",
       "</table>\n",
       "</div>"
      ],
      "text/plain": [
       "   travel_distance  travel_time  travel_time  mahalanobis_distance_log\n",
       "0           27.000    70.498000    70.498000                  5.546320\n",
       "1           52.801    14.164500    14.164500                  5.630561\n",
       "2            3.000    10.423133    10.423133                  5.090359\n",
       "3           46.747    98.218850    98.218850                  5.339610\n",
       "4            4.000   103.663667   103.663667                  5.358221\n",
       "5            4.000    10.143917    10.143917                  8.491110\n",
       "6            2.700    10.949667    10.949667                  8.516316\n",
       "7            1.000     1.596217     1.596217                  8.548891\n",
       "8            9.400   267.825483   267.825483                  9.581129"
      ]
     },
     "execution_count": 21,
     "metadata": {},
     "output_type": "execute_result"
    }
   ],
   "source": [
    "anamolies[['travel_distance','travel_time','travel_time','mahalanobis_distance_log']]\n",
    "# the values seems to be outlier by general sense as well\n",
    "# 1670 fare for 9 kmm is an outlier\n",
    "# 959 fare for 1 km is definitely not accurate"
   ]
  },
  {
   "cell_type": "code",
   "execution_count": 22,
   "metadata": {},
   "outputs": [],
   "source": [
    "# Remove Anamolies before running second anamoly detection method\n",
    "bike_trips_data = bike_trips_data[~bike_trips_data.trip_id.isin(anamolies.trip_id)].reset_index(drop=True)\n",
    "\n",
    "# add speed as a auxiliary variable\n",
    "bike_trips_data['speed'] = (bike_trips_data['travel_distance']/bike_trips_data['travel_time'])*60"
   ]
  },
  {
   "cell_type": "code",
   "execution_count": 23,
   "metadata": {},
   "outputs": [],
   "source": [
    "def get_anamolies_by_speed(df_in, col_name):\n",
    "    \"\"\"\n",
    "    given the data frame removes the outlier as per quantile range \n",
    "    returns : the data frame with anamolies\n",
    "    \"\"\"\n",
    "    q1 = df_in[col_name].quantile(0.25)\n",
    "    q3 = df_in[col_name].quantile(0.75)\n",
    "    iqr = q3-q1 #Interquartile range\n",
    "    fence_low  = q1-1.5*iqr\n",
    "    fence_high = q3+1.5*iqr\n",
    "    print(\"IQR lower speed as per data is  {low}\".format(low=round(fence_low,4)))\n",
    "    print(\"IQR higher speed as per data is {high}\".format(high=round(fence_high,4)))\n",
    "    df_out = df_in.loc[(df_in[col_name] < fence_low) | (df_in[col_name] >fence_high)]\n",
    "    print('-------------------------------------')\n",
    "    print(\"Count of anamolies in data is {}\".format(df_out.shape[0]))\n",
    "    \n",
    "    return df_out"
   ]
  },
  {
   "cell_type": "code",
   "execution_count": 24,
   "metadata": {},
   "outputs": [
    {
     "name": "stdout",
     "output_type": "stream",
     "text": [
      "IQR lower speed as per data is  4.0014\n",
      "IQR higher speed as per data is 36.274\n",
      "-------------------------------------\n",
      "Count of anamolies in data is 1173\n"
     ]
    }
   ],
   "source": [
    "anamolies_by_speed = get_anamolies_by_speed(bike_trips_data,'speed')"
   ]
  },
  {
   "cell_type": "markdown",
   "metadata": {},
   "source": [
    "-as we can see 1173 values are found to be anamoly as per the data where lower fence for speed is 4\n",
    "and higher fence is 36.2\n",
    "\n",
    "-here speed is choosen because this parameter will not be much effected even if captain takes 50 km ride or a 2 km ride\n",
    "\n",
    "-The data has speed as low as 0.000238 kmph and high as 11878 kmph, which are clearly outliers/anamolies"
   ]
  },
  {
   "cell_type": "code",
   "execution_count": 25,
   "metadata": {},
   "outputs": [
    {
     "data": {
      "text/html": [
       "<div>\n",
       "<style scoped>\n",
       "    .dataframe tbody tr th:only-of-type {\n",
       "        vertical-align: middle;\n",
       "    }\n",
       "\n",
       "    .dataframe tbody tr th {\n",
       "        vertical-align: top;\n",
       "    }\n",
       "\n",
       "    .dataframe thead th {\n",
       "        text-align: right;\n",
       "    }\n",
       "</style>\n",
       "<table border=\"1\" class=\"dataframe\">\n",
       "  <thead>\n",
       "    <tr style=\"text-align: right;\">\n",
       "      <th></th>\n",
       "      <th>travel_time</th>\n",
       "      <th>travel_distance</th>\n",
       "      <th>trip_fare</th>\n",
       "      <th>speed</th>\n",
       "    </tr>\n",
       "  </thead>\n",
       "  <tbody>\n",
       "    <tr>\n",
       "      <th>0</th>\n",
       "      <td>504.808017</td>\n",
       "      <td>0.002</td>\n",
       "      <td>20</td>\n",
       "      <td>0.000238</td>\n",
       "    </tr>\n",
       "    <tr>\n",
       "      <th>1</th>\n",
       "      <td>29.470933</td>\n",
       "      <td>0.001</td>\n",
       "      <td>20</td>\n",
       "      <td>0.002036</td>\n",
       "    </tr>\n",
       "    <tr>\n",
       "      <th>2</th>\n",
       "      <td>128.724917</td>\n",
       "      <td>0.005</td>\n",
       "      <td>20</td>\n",
       "      <td>0.002331</td>\n",
       "    </tr>\n",
       "    <tr>\n",
       "      <th>3</th>\n",
       "      <td>6.668383</td>\n",
       "      <td>0.001</td>\n",
       "      <td>20</td>\n",
       "      <td>0.008998</td>\n",
       "    </tr>\n",
       "    <tr>\n",
       "      <th>4</th>\n",
       "      <td>19.428517</td>\n",
       "      <td>0.004</td>\n",
       "      <td>20</td>\n",
       "      <td>0.012353</td>\n",
       "    </tr>\n",
       "  </tbody>\n",
       "</table>\n",
       "</div>"
      ],
      "text/plain": [
       "   travel_time  travel_distance  trip_fare     speed\n",
       "0   504.808017            0.002         20  0.000238\n",
       "1    29.470933            0.001         20  0.002036\n",
       "2   128.724917            0.005         20  0.002331\n",
       "3     6.668383            0.001         20  0.008998\n",
       "4    19.428517            0.004         20  0.012353"
      ]
     },
     "execution_count": 25,
     "metadata": {},
     "output_type": "execute_result"
    }
   ],
   "source": [
    "#Sample of outliers by virtue of low speed\n",
    "anamolies_by_speed[['travel_time','travel_distance','trip_fare','speed']].sort_values(by='speed').reset_index(drop=True).head(5)"
   ]
  },
  {
   "cell_type": "code",
   "execution_count": 26,
   "metadata": {},
   "outputs": [
    {
     "data": {
      "text/html": [
       "<div>\n",
       "<style scoped>\n",
       "    .dataframe tbody tr th:only-of-type {\n",
       "        vertical-align: middle;\n",
       "    }\n",
       "\n",
       "    .dataframe tbody tr th {\n",
       "        vertical-align: top;\n",
       "    }\n",
       "\n",
       "    .dataframe thead th {\n",
       "        text-align: right;\n",
       "    }\n",
       "</style>\n",
       "<table border=\"1\" class=\"dataframe\">\n",
       "  <thead>\n",
       "    <tr style=\"text-align: right;\">\n",
       "      <th></th>\n",
       "      <th>travel_time</th>\n",
       "      <th>travel_distance</th>\n",
       "      <th>trip_fare</th>\n",
       "      <th>speed</th>\n",
       "    </tr>\n",
       "  </thead>\n",
       "  <tbody>\n",
       "    <tr>\n",
       "      <th>0</th>\n",
       "      <td>0.075300</td>\n",
       "      <td>14.908</td>\n",
       "      <td>162</td>\n",
       "      <td>11878.884462</td>\n",
       "    </tr>\n",
       "    <tr>\n",
       "      <th>1</th>\n",
       "      <td>0.065133</td>\n",
       "      <td>9.419</td>\n",
       "      <td>91</td>\n",
       "      <td>8676.663699</td>\n",
       "    </tr>\n",
       "    <tr>\n",
       "      <th>2</th>\n",
       "      <td>0.052483</td>\n",
       "      <td>6.650</td>\n",
       "      <td>59</td>\n",
       "      <td>7602.413947</td>\n",
       "    </tr>\n",
       "    <tr>\n",
       "      <th>3</th>\n",
       "      <td>0.054417</td>\n",
       "      <td>6.766</td>\n",
       "      <td>58</td>\n",
       "      <td>7460.213938</td>\n",
       "    </tr>\n",
       "    <tr>\n",
       "      <th>4</th>\n",
       "      <td>0.054417</td>\n",
       "      <td>6.567</td>\n",
       "      <td>52</td>\n",
       "      <td>7240.795881</td>\n",
       "    </tr>\n",
       "  </tbody>\n",
       "</table>\n",
       "</div>"
      ],
      "text/plain": [
       "   travel_time  travel_distance  trip_fare         speed\n",
       "0     0.075300           14.908        162  11878.884462\n",
       "1     0.065133            9.419         91   8676.663699\n",
       "2     0.052483            6.650         59   7602.413947\n",
       "3     0.054417            6.766         58   7460.213938\n",
       "4     0.054417            6.567         52   7240.795881"
      ]
     },
     "execution_count": 26,
     "metadata": {},
     "output_type": "execute_result"
    }
   ],
   "source": [
    "#Sample of outliers by virtue of high speed\n",
    "anamolies_by_speed[['travel_time','travel_distance','trip_fare','speed']].sort_values(by='speed',ascending=False).reset_index(drop=True).head(5)"
   ]
  },
  {
   "cell_type": "code",
   "execution_count": 27,
   "metadata": {},
   "outputs": [],
   "source": [
    "# Remove Anamolies of speed from the data set \n",
    "bike_trips_data = bike_trips_data[~bike_trips_data.trip_id.isin(anamolies_by_speed.trip_id)].reset_index(drop=True)"
   ]
  },
  {
   "cell_type": "markdown",
   "metadata": {},
   "source": [
    "# Part 2: Metric calculation"
   ]
  },
  {
   "cell_type": "code",
   "execution_count": 28,
   "metadata": {},
   "outputs": [],
   "source": [
    "bike_trips_data_for_metric_calculation = pd.read_excel('bike_trip_details.xlsx')\n",
    "\n",
    "def avg_duration_between_first_and_second_trip(trips_data):\n",
    "    # to get datetime from the timestamp\n",
    "    trips_data['date_time']=trips_data['timestamp'].apply(lambda x : datetime.fromtimestamp(x/1000))\n",
    "    trips_of_cus_more_than_one_trxn = trips_data.copy()\n",
    "    # to get the lag date_time value or previous ride date_time of each trip\n",
    "    trips_of_cus_more_than_one_trxn['lagged_date']  = trips_data.sort_values(by=['date_time'], ascending=True).groupby(['customer_id'])['date_time'].shift(1)\n",
    "    # gives you the data of the second ride of each cutomer which has previous ride time i.e first ride\n",
    "    trips_with_first_and_second_trxn_time = trips_of_cus_more_than_one_trxn.sort_values(by= ['customer_id','date_time']).groupby('customer_id').nth(1).reset_index()\n",
    "    trips_with_first_and_second_trxn_time['time_diff'] = trips_with_first_and_second_trxn_time['date_time'] - trips_with_first_and_second_trxn_time['lagged_date']\n",
    "    return trips_with_first_and_second_trxn_time.time_diff.mean()\n"
   ]
  },
  {
   "cell_type": "code",
   "execution_count": 29,
   "metadata": {},
   "outputs": [
    {
     "name": "stdout",
     "output_type": "stream",
     "text": [
      "-------------------------------------\n",
      "average duration between the 1st trip and the 2nd trip of customers 1 days 00:47:09.691580\n"
     ]
    }
   ],
   "source": [
    "avg_dur = avg_duration_between_first_and_second_trip(bike_trips_data_for_metric_calculation)\n",
    "print('-------------------------------------')\n",
    "print(\"average duration between the 1st trip and the 2nd trip of customers {}\".format(avg_dur))"
   ]
  },
  {
   "cell_type": "markdown",
   "metadata": {},
   "source": [
    "# Part 3: Model building"
   ]
  },
  {
   "cell_type": "markdown",
   "metadata": {},
   "source": [
    "# To add interaction term  \n",
    "\n",
    "- In statistics, an interaction may arise when considering the relationship among three or more variables, and describes a situation in which the effect of one causal variable on an outcome depends on the state of a second causal variable (that is, when effects of the two causes are not additive) (https://en.wikipedia.org/wiki/Interaction_(statistics))\n",
    "-  It means that the slope of one continuous variable on the response variable changes as the values on a second continuous change.\n",
    "- In our case the interaction occurs as the value of distance increases the time would also increase, hence the addition of interaction term"
   ]
  },
  {
   "cell_type": "code",
   "execution_count": 30,
   "metadata": {},
   "outputs": [],
   "source": [
    "bike_trips_data['interaction_term'] = bike_trips_data['travel_distance'] * bike_trips_data['travel_time']"
   ]
  },
  {
   "cell_type": "code",
   "execution_count": 31,
   "metadata": {},
   "outputs": [],
   "source": [
    "def model_to_predict_trip_fare(bike_trips_data):\n",
    "    df_features = bike_trips_data[['travel_distance','travel_time','interaction_term']]\n",
    "    df_target = bike_trips_data[['trip_fare']]\n",
    "    # Linear Regression Model\n",
    "    lm = linear_model.LinearRegression()\n",
    "    # split of data into 70% train data and 30% test data\n",
    "    X_train, X_test, y_train, y_test = train_test_split(df_features, df_target, test_size=0.30, random_state=42)\n",
    "    model = lm.fit(X_train,y_train)\n",
    "    y_pred = model.predict(X_test)\n",
    "    rmse = sqrt(metrics.mean_squared_error(y_pred,y_test))\n",
    "    print('-------------------------------------')\n",
    "    print(\"Root mean square error(RMSE): {}\".format(rmse))\n",
    "    print(\"coefficient of determination R^2 of the prediction: {}\".format(model.score(X_train,y_train)))\n",
    "    print(\"Intercept: {}\".format(model.intercept_))\n",
    "    print(\"coefficients for travel_distance,travel_time,interaction_term  are: {}\".format(model.coef_))\n",
    "              \n",
    "    return model"
   ]
  },
  {
   "cell_type": "code",
   "execution_count": 32,
   "metadata": {},
   "outputs": [
    {
     "name": "stdout",
     "output_type": "stream",
     "text": [
      "-------------------------------------\n",
      "Root mean square error(RMSE): 5.144140965038108\n",
      "coefficient of determination R^2 of the prediction: 0.9732331814994909\n",
      "Intercept: [19.61198968]\n",
      "coefficients for travel_distance,travel_time,interaction_term  are: [[ 6.74217228 -0.62905126  0.08817934]]\n"
     ]
    }
   ],
   "source": [
    "# will use the bike_trips_data dataframe whose anamolies are removed in the EDA process\n",
    "fare_predictor = model_to_predict_trip_fare(bike_trips_data)"
   ]
  },
  {
   "cell_type": "code",
   "execution_count": 33,
   "metadata": {},
   "outputs": [
    {
     "name": "stdout",
     "output_type": "stream",
     "text": [
      "-------------------------------------\n",
      "predicted trip_fare for a trip with travel_distance of 3.5 kms and travel_time of 15 minutes is \n",
      "38.403239013504354 Rupees\n"
     ]
    }
   ],
   "source": [
    "# predict trip_fare for a trip with travel_distance of 3.5 kms and travel_time of 15 minutes. \n",
    "print('-------------------------------------')\n",
    "print(\"predicted trip_fare for a trip with travel_distance of 3.5 kms and travel_time of 15 minutes is \")\n",
    "# Input 3.5 km of distance and 15 minutes of time and 3.5*15 a interaction term to predictor\n",
    "print(\"{} Rupees\".format(fare_predictor.predict([[3.5,15,3.5*15]])[:][0][0]))"
   ]
  },
  {
   "cell_type": "markdown",
   "metadata": {},
   "source": [
    "# Part 4: Top Hex clusters"
   ]
  },
  {
   "cell_type": "code",
   "execution_count": 34,
   "metadata": {},
   "outputs": [],
   "source": [
    "bike_trips_data_for_Top_Hex_clusters = pd.read_excel('bike_trip_details.xlsx')\n",
    "bike_trips_data_for_Top_Hex_clusters['pick_hex_id'] = bike_trips_data_for_Top_Hex_clusters.apply(lambda x: get_hex_id(x.pick_lat, x.pick_lng), axis=1)\n",
    "bike_trips_data_for_Top_Hex_clusters['drop_hex_id'] = bike_trips_data_for_Top_Hex_clusters.apply(lambda x: get_hex_id(x.drop_lat, x.drop_lng), axis=1)\n",
    "\n",
    "def top_five_hex_cluster(trips_data):\n",
    "    \"\"\"\n",
    "    To find top five cluster pair where source cluster and destination cluster can be same\n",
    "    i.e the ride within cluster are also considered.\n",
    "    \"\"\"\n",
    "    # to get trip count's between clusters\n",
    "    pairs_hex = trips_data.groupby(['pick_hex_id','drop_hex_id'])['trip_id'].nunique().reset_index().sort_values(by='trip_id',ascending=False)\n",
    "    pairs_hex.rename(columns={\"trip_id\":\"Total trips\"},inplace=True)\n",
    "    pairs_hex['Hex pair(source_hex_id,destination_hex_id)'] = pairs_hex['pick_hex_id'].astype(str) + ' to ' \\\n",
    "                                                                  + pairs_hex['drop_hex_id'].astype(str) \n",
    "    # to get top 5 clusters by trip count\n",
    "    top_pairs_hex = pairs_hex.head(5).reset_index(drop=True)\n",
    "    top_pairs_hex['Rank'] = top_pairs_hex.index + 1\n",
    "    return top_pairs_hex[['Rank','Hex pair(source_hex_id,destination_hex_id)','Total trips']]"
   ]
  },
  {
   "cell_type": "code",
   "execution_count": 35,
   "metadata": {},
   "outputs": [
    {
     "data": {
      "text/html": [
       "<div>\n",
       "<style scoped>\n",
       "    .dataframe tbody tr th:only-of-type {\n",
       "        vertical-align: middle;\n",
       "    }\n",
       "\n",
       "    .dataframe tbody tr th {\n",
       "        vertical-align: top;\n",
       "    }\n",
       "\n",
       "    .dataframe thead th {\n",
       "        text-align: right;\n",
       "    }\n",
       "</style>\n",
       "<table border=\"1\" class=\"dataframe\">\n",
       "  <thead>\n",
       "    <tr style=\"text-align: right;\">\n",
       "      <th></th>\n",
       "      <th>Rank</th>\n",
       "      <th>Hex pair(source_hex_id,destination_hex_id)</th>\n",
       "      <th>Total trips</th>\n",
       "    </tr>\n",
       "  </thead>\n",
       "  <tbody>\n",
       "    <tr>\n",
       "      <th>0</th>\n",
       "      <td>1</td>\n",
       "      <td>88586da335fffff to 88586da335fffff</td>\n",
       "      <td>1064</td>\n",
       "    </tr>\n",
       "    <tr>\n",
       "      <th>1</th>\n",
       "      <td>2</td>\n",
       "      <td>88586da335fffff to 88586da149fffff</td>\n",
       "      <td>762</td>\n",
       "    </tr>\n",
       "    <tr>\n",
       "      <th>2</th>\n",
       "      <td>3</td>\n",
       "      <td>88586da149fffff to 88586da335fffff</td>\n",
       "      <td>731</td>\n",
       "    </tr>\n",
       "    <tr>\n",
       "      <th>3</th>\n",
       "      <td>4</td>\n",
       "      <td>88586da331fffff to 88586da335fffff</td>\n",
       "      <td>697</td>\n",
       "    </tr>\n",
       "    <tr>\n",
       "      <th>4</th>\n",
       "      <td>5</td>\n",
       "      <td>88586da149fffff to 88586da149fffff</td>\n",
       "      <td>692</td>\n",
       "    </tr>\n",
       "  </tbody>\n",
       "</table>\n",
       "</div>"
      ],
      "text/plain": [
       "   Rank Hex pair(source_hex_id,destination_hex_id)  Total trips\n",
       "0     1         88586da335fffff to 88586da335fffff         1064\n",
       "1     2         88586da335fffff to 88586da149fffff          762\n",
       "2     3         88586da149fffff to 88586da335fffff          731\n",
       "3     4         88586da331fffff to 88586da335fffff          697\n",
       "4     5         88586da149fffff to 88586da149fffff          692"
      ]
     },
     "execution_count": 35,
     "metadata": {},
     "output_type": "execute_result"
    }
   ],
   "source": [
    "top_five_hex_cluster(bike_trips_data_for_Top_Hex_clusters)"
   ]
  },
  {
   "cell_type": "code",
   "execution_count": 36,
   "metadata": {},
   "outputs": [],
   "source": [
    "def top_five_hex_cluster_with_no_trips_in_same_clusters(trips_data):\n",
    "    \"\"\"\n",
    "    To find top five cluster pair where source cluster and destination cluster are distinct\n",
    "    i.e only rides between two clusters are considered.\n",
    "    \"\"\"\n",
    "    # to remove trips in the same clusters\n",
    "    trips_data = trips_data[trips_data['pick_hex_id'] != trips_data['drop_hex_id']].reset_index(drop=True)\n",
    "    # to get trip count's between clusters\n",
    "    pairs_hex = trips_data.groupby(['pick_hex_id','drop_hex_id'])['trip_id'].nunique().reset_index().sort_values(by='trip_id',ascending=False)\n",
    "    pairs_hex.rename(columns={\"trip_id\":\"Total trips\"},inplace=True)\n",
    "    \n",
    "    pairs_hex['Hex pair(source_hex_id,destination_hex_id)'] = pairs_hex['pick_hex_id'].astype(str) + ' to ' \\\n",
    "                                                                  + pairs_hex['drop_hex_id'].astype(str) \n",
    "    # to get top 5 clusters by trip count\n",
    "    top_pairs_hex = pairs_hex.head(5).reset_index(drop=True)\n",
    "    top_pairs_hex['Rank'] = top_pairs_hex.index + 1\n",
    "    return top_pairs_hex[['Rank','Hex pair(source_hex_id,destination_hex_id)','Total trips']]"
   ]
  },
  {
   "cell_type": "code",
   "execution_count": 37,
   "metadata": {},
   "outputs": [
    {
     "data": {
      "text/html": [
       "<div>\n",
       "<style scoped>\n",
       "    .dataframe tbody tr th:only-of-type {\n",
       "        vertical-align: middle;\n",
       "    }\n",
       "\n",
       "    .dataframe tbody tr th {\n",
       "        vertical-align: top;\n",
       "    }\n",
       "\n",
       "    .dataframe thead th {\n",
       "        text-align: right;\n",
       "    }\n",
       "</style>\n",
       "<table border=\"1\" class=\"dataframe\">\n",
       "  <thead>\n",
       "    <tr style=\"text-align: right;\">\n",
       "      <th></th>\n",
       "      <th>Rank</th>\n",
       "      <th>Hex pair(source_hex_id,destination_hex_id)</th>\n",
       "      <th>Total trips</th>\n",
       "    </tr>\n",
       "  </thead>\n",
       "  <tbody>\n",
       "    <tr>\n",
       "      <th>0</th>\n",
       "      <td>1</td>\n",
       "      <td>88586da335fffff to 88586da149fffff</td>\n",
       "      <td>762</td>\n",
       "    </tr>\n",
       "    <tr>\n",
       "      <th>1</th>\n",
       "      <td>2</td>\n",
       "      <td>88586da149fffff to 88586da335fffff</td>\n",
       "      <td>731</td>\n",
       "    </tr>\n",
       "    <tr>\n",
       "      <th>2</th>\n",
       "      <td>3</td>\n",
       "      <td>88586da331fffff to 88586da335fffff</td>\n",
       "      <td>697</td>\n",
       "    </tr>\n",
       "    <tr>\n",
       "      <th>3</th>\n",
       "      <td>4</td>\n",
       "      <td>88586da335fffff to 88586da331fffff</td>\n",
       "      <td>681</td>\n",
       "    </tr>\n",
       "    <tr>\n",
       "      <th>4</th>\n",
       "      <td>5</td>\n",
       "      <td>88586da149fffff to 88586da14dfffff</td>\n",
       "      <td>485</td>\n",
       "    </tr>\n",
       "  </tbody>\n",
       "</table>\n",
       "</div>"
      ],
      "text/plain": [
       "   Rank Hex pair(source_hex_id,destination_hex_id)  Total trips\n",
       "0     1         88586da335fffff to 88586da149fffff          762\n",
       "1     2         88586da149fffff to 88586da335fffff          731\n",
       "2     3         88586da331fffff to 88586da335fffff          697\n",
       "3     4         88586da335fffff to 88586da331fffff          681\n",
       "4     5         88586da149fffff to 88586da14dfffff          485"
      ]
     },
     "execution_count": 37,
     "metadata": {},
     "output_type": "execute_result"
    }
   ],
   "source": [
    "top_five_hex_cluster_with_no_trips_in_same_clusters(bike_trips_data_for_Top_Hex_clusters)"
   ]
  },
  {
   "cell_type": "code",
   "execution_count": null,
   "metadata": {},
   "outputs": [],
   "source": []
  }
 ],
 "metadata": {
  "kernelspec": {
   "display_name": "Python 3",
   "language": "python",
   "name": "python3"
  },
  "language_info": {
   "codemirror_mode": {
    "name": "ipython",
    "version": 3
   },
   "file_extension": ".py",
   "mimetype": "text/x-python",
   "name": "python",
   "nbconvert_exporter": "python",
   "pygments_lexer": "ipython3",
   "version": "3.6.5"
  }
 },
 "nbformat": 4,
 "nbformat_minor": 2
}
